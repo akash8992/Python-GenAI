{
 "cells": [
  {
   "cell_type": "markdown",
   "id": "deb42fe6",
   "metadata": {},
   "source": [
    "- We want to execute a code based on valid conditions\n",
    "\n",
    "-  there are many possible outcomes depends on sitations\n",
    "\n",
    "- I want to go collage if No rain **if**\n",
    "\n",
    "- I will go to college if no rain otherwise i stay ata hme **ifelse**\n",
    "\n",
    "- i will go collge if no rain, i will go college to ground if dad not at home\n",
    "\n",
    "    - otherwise  i will stay at home **if-elif-else**\n"
   ]
  },
  {
   "cell_type": "markdown",
   "id": "f8843225",
   "metadata": {},
   "source": [
    "**Case-1 : if**"
   ]
  },
  {
   "cell_type": "code",
   "execution_count": null,
   "id": "8672078b",
   "metadata": {},
   "outputs": [],
   "source": [
    "if <condition>:\n",
    "    <code will start here>"
   ]
  },
  {
   "cell_type": "code",
   "execution_count": 1,
   "id": "99e0bb1d",
   "metadata": {},
   "outputs": [
    {
     "name": "stdout",
     "output_type": "stream",
     "text": [
      "hello\n"
     ]
    }
   ],
   "source": [
    "print('hello')"
   ]
  },
  {
   "cell_type": "code",
   "execution_count": 2,
   "id": "7ff8844b",
   "metadata": {},
   "outputs": [
    {
     "data": {
      "text/plain": [
       "False"
      ]
     },
     "execution_count": 2,
     "metadata": {},
     "output_type": "execute_result"
    }
   ],
   "source": [
    "1000<22"
   ]
  },
  {
   "cell_type": "code",
   "execution_count": null,
   "id": "a0868cb9",
   "metadata": {},
   "outputs": [],
   "source": []
  }
 ],
 "metadata": {
  "kernelspec": {
   "display_name": ".venv",
   "language": "python",
   "name": "python3"
  },
  "language_info": {
   "codemirror_mode": {
    "name": "ipython",
    "version": 3
   },
   "file_extension": ".py",
   "mimetype": "text/x-python",
   "name": "python",
   "nbconvert_exporter": "python",
   "pygments_lexer": "ipython3",
   "version": "3.12.1"
  }
 },
 "nbformat": 4,
 "nbformat_minor": 5
}
