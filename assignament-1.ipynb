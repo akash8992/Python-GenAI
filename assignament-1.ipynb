{
 "cells": [
  {
   "cell_type": "code",
   "execution_count": null,
   "id": "0256b931",
   "metadata": {},
   "outputs": [],
   "source": [
    "n1 = input('Enter first number: ')\n",
    "n2 = input('Enter second number: ')\n",
    "avg = (int(n1) + int(n2)) / 2\n",
    "print('The average of {} and {} is {}'.format(n1, n2, avg))"
   ]
  },
  {
   "cell_type": "code",
   "execution_count": null,
   "id": "01dbadb9",
   "metadata": {},
   "outputs": [],
   "source": [
    "n1= input('enter the radious of the circle: ')\n",
    "n2= 3.14\n",
    "area = n2 * (int(n1) ** 2)\n",
    "print('The area of the circle with radius {} is {}'.format(n1, area))"
   ]
  },
  {
   "cell_type": "code",
   "execution_count": null,
   "id": "0be4980b",
   "metadata": {},
   "outputs": [],
   "source": [
    "base = input('Enter the height of the right angle: ')\n",
    "height = input('Enter the base of the right angle: ')\n",
    "area = (int(base) * int(height)) / 2\n",
    "print('The area of the right angle with base {} and height {} is {}'.format(base, height, area))"
   ]
  },
  {
   "cell_type": "code",
   "execution_count": null,
   "id": "6cbd7a20",
   "metadata": {},
   "outputs": [],
   "source": [
    "bill= input('Enter the bill amount: ')\n",
    "tip= input('Enter the tip percentage: ')\n",
    "total = int(bill) + (int(tip))\n",
    "print('The total bill amount with tip of {}'.format(total))"
   ]
  },
  {
   "cell_type": "code",
   "execution_count": null,
   "id": "931ce75f",
   "metadata": {},
   "outputs": [],
   "source": [
    "bill = input('Enter the bill amount: ')\n",
    "tip = input('Enter the tip percentage: ')\n",
    "total = int(bill) + (int(tip) / 100 * int(bill))\n",
    "print('The total bill amount with tip of {} is {}'.format(tip, total))"
   ]
  },
  {
   "cell_type": "code",
   "execution_count": null,
   "id": "f092394e",
   "metadata": {},
   "outputs": [],
   "source": [
    "weight = input('Enter your weight in pounds: ')\n",
    "kg = 2.20462\n",
    "weight = int(weight) / kg\n",
    "print('Your weight in kg is {}'.format(weight))"
   ]
  }
 ],
 "metadata": {
  "language_info": {
   "name": "python"
  }
 },
 "nbformat": 4,
 "nbformat_minor": 5
}
