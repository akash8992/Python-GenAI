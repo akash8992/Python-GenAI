{
 "cells": [
  {
   "cell_type": "code",
   "execution_count": null,
   "id": "0256b931",
   "metadata": {},
   "outputs": [],
   "source": [
    "n1 = input('Enter first number: ')\n",
    "n2 = input('Enter second number: ')\n",
    "avg = (int(n1) + int(n2)) / 2\n",
    "print('The average of {} and {} is {}'.format(n1, n2, avg))"
   ]
  },
  {
   "cell_type": "code",
   "execution_count": null,
   "id": "01dbadb9",
   "metadata": {},
   "outputs": [],
   "source": [
    "n1= input('enter the radious of the circle: ')\n",
    "n2= 3.14\n",
    "area = n2 * (int(n1) ** 2)\n",
    "print('The area of the circle with radius {} is {}'.format(n1, area))"
   ]
  },
  {
   "cell_type": "code",
   "execution_count": null,
   "id": "0be4980b",
   "metadata": {},
   "outputs": [],
   "source": [
    "base = input('Enter the height of the right angle: ')\n",
    "height = input('Enter the base of the right angle: ')\n",
    "area = (int(base) * int(height)) / 2\n",
    "print('The area of the right angle with base {} and height {} is {}'.format(base, height, area))"
   ]
  }
 ],
 "metadata": {
  "language_info": {
   "name": "python"
  }
 },
 "nbformat": 4,
 "nbformat_minor": 5
}
