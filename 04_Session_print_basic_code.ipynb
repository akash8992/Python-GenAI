{
 "cells": [
  {
   "cell_type": "code",
   "execution_count": 3,
   "id": "44775442",
   "metadata": {},
   "outputs": [
    {
     "name": "stdout",
     "output_type": "stream",
     "text": [
      "additional of 100 and 200 is: 300\n",
      "additional of 100 and 200 is: 300\n",
      "additional of , a, b, is:, c\n",
      "additional of 100 and 200 is : 300\n"
     ]
    }
   ],
   "source": [
    "a= 100\n",
    "b= 200\n",
    "c= a+b\n",
    "print('additional of 100 and 200 is: 300')\n",
    "print('additional of 100 and 200 is:', c)\n",
    "print('additional of , a, b, is:, c') \n",
    "print ('additional of {} and {} is : {}'.format(a, b, c))\n"
   ]
  },
  {
   "cell_type": "code",
   "execution_count": null,
   "id": "a99a5dd8",
   "metadata": {},
   "outputs": [],
   "source": []
  }
 ],
 "metadata": {
  "kernelspec": {
   "display_name": ".venv",
   "language": "python",
   "name": "python3"
  },
  "language_info": {
   "codemirror_mode": {
    "name": "ipython",
    "version": 3
   },
   "file_extension": ".py",
   "mimetype": "text/x-python",
   "name": "python",
   "nbconvert_exporter": "python",
   "pygments_lexer": "ipython3",
   "version": "3.12.1"
  }
 },
 "nbformat": 4,
 "nbformat_minor": 5
}
