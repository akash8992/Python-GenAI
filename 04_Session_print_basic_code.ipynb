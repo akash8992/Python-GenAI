{
 "cells": [
  {
   "cell_type": "code",
   "execution_count": 3,
   "id": "44775442",
   "metadata": {},
   "outputs": [
    {
     "name": "stdout",
     "output_type": "stream",
     "text": [
      "additional of 100 and 200 is: 300\n",
      "additional of 100 and 200 is: 300\n",
      "additional of , a, b, is:, c\n",
      "additional of 100 and 200 is : 300\n"
     ]
    }
   ],
   "source": [
    "a= 100\n",
    "b= 200\n",
    "c= a+b\n",
    "print('additional of 100 and 200 is: 300')\n",
    "print('additional of 100 and 200 is:', c)\n",
    "print('additional of , a, b, is:, c') \n",
    "print ('additional of {} and {} is : {}'.format(a, b, c))\n"
   ]
  },
  {
   "cell_type": "code",
   "execution_count": 6,
   "id": "a99a5dd8",
   "metadata": {},
   "outputs": [
    {
     "name": "stdout",
     "output_type": "stream",
     "text": [
      "My name is John and I am 30 years old. I live in New York\n",
      "My name is John and I am 30 years old. I live in New York\n",
      "My name is John and I am 30 years old. I live in New York\n",
      "My name is John and I am 30 years old. I live in New York\n",
      "My name is John and I am 30 years old. I live in New York\n",
      "My name is John and I am 30 years old. I live in New York\n",
      "My name is John and I am 30 years old. I live in New York\n",
      "My name is John and I am 30 years old. I live in New York\n",
      "My name is John and I am 30 years old. I live in New York\n",
      "My name is John and I am 30 years old. I live in New York\n",
      "My name is John and I am 30 years old. I live in New York\n",
      "My name is John and I am 30 years old. I live in New York\n",
      "My name is John and I am 30 years old. I live in New York\n",
      "My name is John and I am 30 years old. I live in New York\n",
      "My name is John and I am 30 years old. I live in New York\n",
      "My name is John and I am 30 years old. I live in New York\n",
      "name is John, age is 30, city is New York\n",
      "addition of 100 and 200 is: 300\n",
      "addition of 100 and 200 is: 300\n"
     ]
    }
   ],
   "source": [
    "name = 'John'\n",
    "city = 'New York'\n",
    "age = 30\n",
    "print('My name is {} and I am {} years old. I live in {}'.format(name, age, city))\n",
    "print('My name is {0} and I am {1} years old. I live in {2}'.format(name, age, city))   \n",
    "print('My name is {name} and I am {age} years old. I live in {city}'.format(name=name, age=age, city=city))\n",
    "print('My name is {0} and I am {1} years old. I live in {2}'.format(name, age, city))\n",
    "print('My name is {name} and I am {age} years old. I live in {city}'.format(name=name, age=age, city=city))\n",
    "print('My name is {0} and I am {1} years old. I live in {2}'.format(name, age, city))\n",
    "print('My name is {name} and I am {age} years old. I live in {city}'.format(name=name, age=age, city=city))\n",
    "print('My name is {0} and I am {1} years old. I live in {2}'.format(name, age, city))\n",
    "print('My name is {name} and I am {age} years old. I live in {city}'.format(name=name, age=age, city=city))\n",
    "print('My name is {0} and I am {1} years old. I live in {2}'.format(name, age, city))\n",
    "print('My name is {name} and I am {age} years old. I live in {city}'.format(name=name, age=age, city=city))\n",
    "print('My name is {0} and I am {1} years old. I live in {2}'.format(name, age, city))\n",
    "print('My name is {name} and I am {age} years old. I live in {city}'.format(name=name, age=age, city=city))\n",
    "print('My name is {0} and I am {1} years old. I live in {2}'.format(name, age, city))\n",
    "print('My name is {name} and I am {age} years old. I live in {city}'.format(name=name, age=age, city=city))\n",
    "print('My name is {0} and I am {1} years old. I live in {2}'.format(name, age, city))\n",
    "\n",
    "print(f'name is {name}, age is {age}, city is {city}')\n",
    "\n",
    "print(f'addition of {a} and {b} is: {c}')\n",
    "print(f'addition of {a} and {b} is: {c}')"
   ]
  },
  {
   "cell_type": "markdown",
   "id": "f86e3f65",
   "metadata": {},
   "source": [
    "**TAKE 2 variable and multiplication of 10 and 20 is **"
   ]
  },
  {
   "cell_type": "code",
   "execution_count": 11,
   "id": "9ec3e398",
   "metadata": {},
   "outputs": [
    {
     "name": "stdout",
     "output_type": "stream",
     "text": [
      "multiplication of 10 and 20 is: 200\n"
     ]
    }
   ],
   "source": [
    "a = 10\n",
    "b = 20\n",
    "c = a * b\n",
    "\n",
    "print (f'multiplication of {a} and {b} is: {c}')\n",
    "# print(f'multiplication of {} and b {} is c {}' .format(a, b, c))"
   ]
  },
  {
   "cell_type": "code",
   "execution_count": 12,
   "id": "44996bc2",
   "metadata": {},
   "outputs": [
    {
     "name": "stdout",
     "output_type": "stream",
     "text": [
      "average of 100, 200, 300 is: 200.0\n"
     ]
    }
   ],
   "source": [
    "a = 100\n",
    "b = 200\n",
    "c = 300 \n",
    "d= (a + b + c) / 3\n",
    "print (f'average of {a}, {b}, {c} is: {d}')"
   ]
  },
  {
   "cell_type": "code",
   "execution_count": 13,
   "id": "299f23b6",
   "metadata": {},
   "outputs": [],
   "source": [
    "#Q1) Take two variables, find their sum, product, and difference\n",
    "#    sum = a + b, product = a * b, difference = a - b\n",
    "\n",
    "#Q2) Take three values, find the average\n",
    "#    avg = (a + b + c) / 3\n",
    "\n",
    "#Q3) Ask the user to take radius of a circle and find area of the circle\n",
    "#    formula = pi * r * r, pi = 3.14\n",
    "\n",
    "#Q4) Ask the user to take base and height, calculate area of right-angled triangle\n",
    "#    formula = 0.5 * b * h\n",
    "\n",
    "#Q5) Ask the user to input bill amount and tip amount, calculate total bill\n",
    "#    total = bill + tip\n",
    "\n",
    "#Q6) Ask the user to input bill amount and tip percentage, calculate total bill\n",
    "#    tip = bill * tip_percent / 100, total = bill + tip\n",
    "\n",
    "#Q7) Convert temperature from Celsius to Fahrenheit\n",
    "#    F = (C * 9/5) + 32\n",
    "\n",
    "#Q8) Convert temperature from Fahrenheit to Celsius\n",
    "#    C = (F - 32) * 5/9\n",
    "\n",
    "#Q9) Take a number, check if it is even or odd\n",
    "#    if num % 2 == 0: even else: odd\n",
    "\n",
    "#Q10) Take a number, check if it is positive, negative or zero\n",
    "#    if num > 0 / < 0 / == 0\n",
    "\n",
    "#Q11) Take two numbers, swap them\n",
    "#    temp = a; a = b; b = temp\n",
    "\n",
    "#Q12) Take a number, find square and cube\n",
    "#    square = num ** 2; cube = num ** 3\n",
    "\n",
    "#Q13) Take a number, print its multiplication table\n",
    "#    use for loop: num * i\n",
    "\n",
    "#Q14) Ask user for marks of 5 subjects, calculate total and percentage\n",
    "#    total = sum of marks, percent = total / 5\n",
    "\n",
    "#Q15) Ask user for a 3-digit number, reverse the number\n",
    "#    use slicing or math\n",
    "\n",
    "#Q16) Take a string and print its length\n",
    "#    len(string)\n",
    "\n",
    "#Q17) Take a string and print it in reverse\n",
    "#    string[::-1]\n",
    "\n",
    "#Q18) Take a number, check if it is divisible by both 5 and 11\n",
    "#    if num % 5 == 0 and num % 11 == 0\n",
    "\n",
    "#Q19) Take two numbers, check which is greater or if they are equal\n",
    "#    if a > b / < b / == b\n",
    "\n",
    "#Q20) Take a year and check if it's a leap year\n",
    "#    if year % 4 == 0 and (year % 100 != 0 or year % 400 == 0)"
   ]
  },
  {
   "cell_type": "code",
   "execution_count": 12,
   "id": "b986bc1d",
   "metadata": {},
   "outputs": [
    {
     "name": "stdout",
     "output_type": "stream",
     "text": [
      "multiplication of 10 and 20 is: 200\n",
      "division of 10 and 20 is: 0.5\n",
      "subtraction of 10 and 20 is: -10\n"
     ]
    },
    {
     "data": {
      "text/plain": [
       "10"
      ]
     },
     "execution_count": 12,
     "metadata": {},
     "output_type": "execute_result"
    }
   ],
   "source": [
    "# question no 1\n",
    "n1 = 10\n",
    "n2 = 20\n",
    "multiplication = n1 * n2\n",
    "div= n1 / n2\n",
    "sub= n1 - n2\n",
    "\n",
    "print(f'multiplication of {n1} and {n2} is: {multiplication}')\n",
    "print(f'division of {n1} and {n2} is: {div}')\n",
    "print(f'subtraction of {n1} and {n2} is: {sub}')\n",
    "\n",
    "sub= n1 - n2\n",
    "abs (sub)\n",
    "\n",
    "\n",
    "# inbuild function\n",
    "\n",
    "#type()\n",
    "#len()\n",
    "# round()\n",
    "# abs()\n",
    "# min()\n",
    "# max()\n",
    "# sum()\n",
    "# abs()\n",
    "# avg()\n",
    "\n",
    "\n"
   ]
  },
  {
   "cell_type": "code",
   "execution_count": 13,
   "id": "c10911ed",
   "metadata": {},
   "outputs": [
    {
     "name": "stdout",
     "output_type": "stream",
     "text": [
      "the average of 10, 20, 31, is: 20.333333333333332\n",
      "the average of 10, 20, 31, is: 20\n"
     ]
    }
   ],
   "source": [
    "# question no 2\n",
    "\n",
    "a = 10\n",
    "b = 20\n",
    "c = 31\n",
    "avg = (a + b + c)/3\n",
    "\n",
    "print(f'the average of {a}, {b}, {c}, is: {avg}')\n",
    "print(f'the average of {a}, {b}, {c}, is: {round(avg)}')"
   ]
  },
  {
   "cell_type": "code",
   "execution_count": null,
   "id": "e68b3a7a",
   "metadata": {},
   "outputs": [
    {
     "name": "stdout",
     "output_type": "stream",
     "text": [
      "area of circle is: 1256.0\n"
     ]
    }
   ],
   "source": [
    "# Question no 3\n",
    "\n",
    "pi = 3.14\n",
    "r = 20\n",
    "area_of_circle = pi * r * r\n",
    "\n",
    "print(f'area of circle is: {area_of_circle}')\n",
    "\n",
    "\n"
   ]
  },
  {
   "cell_type": "code",
   "execution_count": 16,
   "id": "8bc7afbf",
   "metadata": {},
   "outputs": [
    {
     "name": "stdout",
     "output_type": "stream",
     "text": [
      "area of triangle is: 300.0\n"
     ]
    }
   ],
   "source": [
    "# question 4 \n",
    "\n",
    "base = 20 \n",
    "height = 30\n",
    "\n",
    "area_of_triangle = 0.5 * base * height\n",
    "print (f'area of triangle is: {area_of_triangle}')"
   ]
  },
  {
   "cell_type": "code",
   "execution_count": 17,
   "id": "fa9a7ce7",
   "metadata": {},
   "outputs": [
    {
     "name": "stdout",
     "output_type": "stream",
     "text": [
      "total bill is: 1200\n"
     ]
    }
   ],
   "source": [
    "bill_amount = 1000\n",
    "tip_amount = 200\n",
    "total_bill = bill_amount + tip_amount\n",
    "print (f'total bill is: {total_bill}')"
   ]
  },
  {
   "cell_type": "code",
   "execution_count": 18,
   "id": "e035556e",
   "metadata": {},
   "outputs": [
    {
     "name": "stdout",
     "output_type": "stream",
     "text": [
      "tip amount is: 200.0\n",
      "total bill is: 1200\n"
     ]
    }
   ],
   "source": [
    "bill_amount = 1000\n",
    "tip_per = 20\n",
    "tip_amoount = bill_amount*tip_per/100\n",
    "print (f'tip amount is: {tip_amoount}')\n",
    "total_bill = bill_amount + tip_amount\n",
    "print (f'total bill is: {total_bill}')"
   ]
  }
 ],
 "metadata": {
  "kernelspec": {
   "display_name": ".venv",
   "language": "python",
   "name": "python3"
  },
  "language_info": {
   "codemirror_mode": {
    "name": "ipython",
    "version": 3
   },
   "file_extension": ".py",
   "mimetype": "text/x-python",
   "name": "python",
   "nbconvert_exporter": "python",
   "pygments_lexer": "ipython3",
   "version": "3.12.1"
  }
 },
 "nbformat": 4,
 "nbformat_minor": 5
}
