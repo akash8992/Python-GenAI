{
 "cells": [
  {
   "cell_type": "markdown",
   "id": "12badfa4",
   "metadata": {},
   "source": [
    "**Function**\n",
    "\n",
    "#take there value find the avarage of three value\n"
   ]
  },
  {
   "cell_type": "code",
   "execution_count": null,
   "id": "9c24f433",
   "metadata": {
    "vscode": {
     "languageId": "plaintext"
    }
   },
   "outputs": [],
   "source": [
    "n1 =eval(input('enter the value of n1:'))\n",
    "n2 = eval(input('enter the value of n2:'))\n",
    "n3 = eval(input('enter the value of n3:'))\n",
    "\n",
    "avg=(n1+n2+n3)/3\n",
    "avg1=round(avg,2)\n",
    "\n",
    "print(f\"the average value of {n1}, {n2} and {n3} is : {avg1}\")"
   ]
  },
  {
   "cell_type": "code",
   "execution_count": null,
   "id": "3bb3c8dc",
   "metadata": {
    "vscode": {
     "languageId": "plaintext"
    }
   },
   "outputs": [],
   "source": [
    "try:\n",
    "    def average():\n",
    "        n1 =eval(input('enter the value of n1:'))\n",
    "        n2 = eval(input('enter the value of n2:'))\n",
    "        n3 = eval(input('enter the value of n3:'))\n",
    "        avg=(n1+n2+n366)/3\n",
    "        avg1=round(avg,2)\n",
    "        print(f\"the average value of {n1}, {n2} and {n3} is : {avg1}\")\n",
    "except Exception as e:\n",
    "    print(e)\n",
    "\n"
   ]
  },
  {
   "cell_type": "code",
   "execution_count": null,
   "id": "8f0d5551",
   "metadata": {
    "vscode": {
     "languageId": "plaintext"
    }
   },
   "outputs": [],
   "source": [
    "def average5():\n",
    "    try:\n",
    "        n1 = float(input(\"Enter the value of n1: \"))\n",
    "        n2 = float(input(\"Enter the value of n2: \"))\n",
    "        n3 = float(input(\"Enter the value of n3: \"))\n",
    "        avg = (n1 + n2 + n3) / 3\n",
    "        avg_rounded = round(avg, 2)\n",
    "        print(f\"The average value of {n1}, {n2}, and {n3} is: {avg_rounded}\")\n",
    "    except Exception as e:\n",
    "        print(f\"Error: {e}\")\n",
    "\n",
    "average5()\n"
   ]
  },
  {
   "cell_type": "code",
   "execution_count": null,
   "id": "14a53c64",
   "metadata": {
    "vscode": {
     "languageId": "plaintext"
    }
   },
   "outputs": [],
   "source": []
  }
 ],
 "metadata": {
  "language_info": {
   "name": "python"
  }
 },
 "nbformat": 4,
 "nbformat_minor": 5
}
