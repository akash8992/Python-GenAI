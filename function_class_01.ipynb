{
 "cells": [
  {
   "cell_type": "markdown",
   "id": "12badfa4",
   "metadata": {},
   "source": [
    "**Function**\n",
    "\n",
    "#take there value find the avarage of three value\n"
   ]
  },
  {
   "cell_type": "code",
   "execution_count": null,
   "id": "9c24f433",
   "metadata": {
    "vscode": {
     "languageId": "plaintext"
    }
   },
   "outputs": [],
   "source": [
    "n1 =eval(input('enter the value of n1:'))\n",
    "n2 = eval(input('enter the value of n2:'))\n",
    "n3 = eval(input('enter the value of n3:'))\n",
    "\n",
    "avg=(n1+n2+n3)/3\n",
    "avg1=round(avg,2)\n",
    "\n",
    "print(f\"the average value of {n1}, {n2} and {n3} is : {avg1}\")"
   ]
  },
  {
   "cell_type": "code",
   "execution_count": null,
   "id": "3bb3c8dc",
   "metadata": {
    "vscode": {
     "languageId": "plaintext"
    }
   },
   "outputs": [],
   "source": [
    "def:\n",
    "    "
   ]
  }
 ],
 "metadata": {
  "language_info": {
   "name": "python"
  }
 },
 "nbformat": 4,
 "nbformat_minor": 5
}
