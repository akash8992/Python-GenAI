{
 "cells": [
  {
   "cell_type": "markdown",
   "id": "12badfa4",
   "metadata": {},
   "source": [
    "**Function**\n",
    "\n",
    "#take there value find the avarage of three value\n"
   ]
  },
  {
   "cell_type": "code",
   "execution_count": 4,
   "id": "9c24f433",
   "metadata": {},
   "outputs": [
    {
     "name": "stdout",
     "output_type": "stream",
     "text": [
      "the average value of 1212121, 12 and 121 is : 404084.67\n"
     ]
    }
   ],
   "source": [
    "n1 =eval(input('enter the value of n1:'))\n",
    "n2 = eval(input('enter the value of n2:'))\n",
    "n3 = eval(input('enter the value of n3:'))\n",
    "\n",
    "avg=(n1+n2+n3)/3\n",
    "avg1=round(avg,2)\n",
    "\n",
    "print(f\"the average value of {n1}, {n2} and {n3} is : {avg1}\")"
   ]
  },
  {
   "cell_type": "code",
   "execution_count": 5,
   "id": "3bb3c8dc",
   "metadata": {},
   "outputs": [],
   "source": [
    "try:\n",
    "    def average():\n",
    "        n1 =eval(input('enter the value of n1:'))\n",
    "        n2 = eval(input('enter the value of n2:'))\n",
    "        n3 = eval(input('enter the value of n3:'))\n",
    "        avg=(n1+n2+n366)/3\n",
    "        avg1=round(avg,2)\n",
    "        print(f\"the average value of {n1}, {n2} and {n3} is : {avg1}\")\n",
    "except Exception as e:\n",
    "    print(e)\n",
    "\n"
   ]
  },
  {
   "cell_type": "code",
   "execution_count": 6,
   "id": "8f0d5551",
   "metadata": {},
   "outputs": [
    {
     "name": "stdout",
     "output_type": "stream",
     "text": [
      "Error: could not convert string to float: ''\n"
     ]
    }
   ],
   "source": [
    "def average5():\n",
    "    try:\n",
    "        n1 = float(input(\"Enter the value of n1: \"))\n",
    "        n2 = float(input(\"Enter the value of n2: \"))\n",
    "        n3 = float(input(\"Enter the value of n3: \"))\n",
    "        avg = (n1 + n2 + n3) / 3\n",
    "        avg_rounded = round(avg, 2)\n",
    "        print(f\"The average value of {n1}, {n2}, and {n3} is: {avg_rounded}\")\n",
    "    except Exception as e:\n",
    "        print(f\"Error: {e}\")\n",
    "\n",
    "average5()\n"
   ]
  },
  {
   "cell_type": "code",
   "execution_count": 7,
   "id": "14a53c64",
   "metadata": {},
   "outputs": [
    {
     "name": "stdout",
     "output_type": "stream",
     "text": [
      "The average value of 12.0, 12.0, and 12.0 is: 12.0\n"
     ]
    }
   ],
   "source": [
    "def average5():\n",
    "    try:\n",
    "        n1 = float(input(\"Enter the value of n1: \"))\n",
    "        n2 = float(input(\"Enter the value of n2: \"))\n",
    "        n3 = float(input(\"Enter the value of n3: \"))\n",
    "        avg = (n1 + n2 + n3) / 3\n",
    "        avg_rounded = round(avg, 2)\n",
    "        print(f\"The average value of {n1}, {n2}, and {n3} is: {avg_rounded}\")\n",
    "    except Exception as e:\n",
    "        print(f\"Error: {e}\")\n",
    "\n",
    "average5()\n"
   ]
  },
  {
   "cell_type": "code",
   "execution_count": 9,
   "id": "b2b39873",
   "metadata": {},
   "outputs": [
    {
     "name": "stdout",
     "output_type": "stream",
     "text": [
      "The average value of 33.0, 44.0, and 55.0 is: 44.0\n"
     ]
    }
   ],
   "source": [
    "def average5():\n",
    "    try:\n",
    "        n1 = float(input(\"Enter the value of n1: \"))\n",
    "        n2 = float(input(\"Enter the value of n2: \"))\n",
    "        n3 = float(input(\"Enter the value of n3: \"))\n",
    "        avg = (n1 + n2 + n3) / 3\n",
    "        avg_rounded = round(avg, 2)\n",
    "        print(f\"The average value of {n1}, {n2}, and {n3} is: {avg_rounded}\")\n",
    "    except Exception as e:\n",
    "        print(f\"Error: {e}\")\n",
    "\n",
    "average5()\n"
   ]
  },
  {
   "cell_type": "code",
   "execution_count": 10,
   "id": "dfe5649e",
   "metadata": {},
   "outputs": [
    {
     "name": "stdout",
     "output_type": "stream",
     "text": [
      "The sum of 22 and 33 is: 55\n"
     ]
    }
   ],
   "source": [
    "def sum_two():\n",
    "    try:\n",
    "        a = int(input(\"Enter first number: \"))\n",
    "        b = int(input(\"Enter second number: \"))\n",
    "        result = a + b\n",
    "        print(f\"The sum of {a} and {b} is: {result}\")\n",
    "    except Exception as e:\n",
    "        print(f\"Error: {e}\")\n",
    "\n",
    "sum_two()\n"
   ]
  },
  {
   "cell_type": "code",
   "execution_count": 12,
   "id": "8a225c64",
   "metadata": {},
   "outputs": [
    {
     "name": "stdout",
     "output_type": "stream",
     "text": [
      "Area of the circle with radius 22.0 is: 1520.53\n"
     ]
    }
   ],
   "source": [
    "def area_circle():\n",
    "    try:\n",
    "        radius = float(input(\"Enter the radius of the circle: \"))\n",
    "        area = 3.14159 * radius * radius\n",
    "        print(f\"Area of the circle with radius {radius} is: {round(area, 2)}\")\n",
    "    except Exception as e:\n",
    "        print(f\"Error: {e}\")\n",
    "\n",
    "area_circle()\n"
   ]
  },
  {
   "cell_type": "code",
   "execution_count": 13,
   "id": "486c1da3",
   "metadata": {},
   "outputs": [
    {
     "name": "stdout",
     "output_type": "stream",
     "text": [
      "33.0°C is equal to 91.4°F\n"
     ]
    }
   ],
   "source": [
    "def celsius_to_fahrenheit():\n",
    "    try:\n",
    "        c = float(input(\"Enter temperature in Celsius: \"))\n",
    "        f = (c * 9/5) + 32\n",
    "        print(f\"{c}°C is equal to {round(f, 2)}°F\")\n",
    "    except Exception as e:\n",
    "        print(f\"Error: {e}\")\n",
    "\n",
    "celsius_to_fahrenheit()\n"
   ]
  },
  {
   "cell_type": "code",
   "execution_count": 14,
   "id": "877417f7",
   "metadata": {},
   "outputs": [
    {
     "name": "stdout",
     "output_type": "stream",
     "text": [
      "Square root of 33.0 is: 5.74\n"
     ]
    }
   ],
   "source": [
    "import math\n",
    "\n",
    "def square_root():\n",
    "    try:\n",
    "        num = float(input(\"Enter a number: \"))\n",
    "        if num < 0:\n",
    "            raise ValueError(\"Cannot compute square root of a negative number.\")\n",
    "        result = math.sqrt(num)\n",
    "        print(f\"Square root of {num} is: {round(result, 2)}\")\n",
    "    except Exception as e:\n",
    "        print(f\"Error: {e}\")\n",
    "\n",
    "square_root()\n"
   ]
  },
  {
   "cell_type": "code",
   "execution_count": 15,
   "id": "c8f244fb",
   "metadata": {},
   "outputs": [
    {
     "name": "stdout",
     "output_type": "stream",
     "text": [
      "Simple Interest is: 159.72\n"
     ]
    }
   ],
   "source": [
    "def simple_interest():\n",
    "    try:\n",
    "        p = float(input(\"Enter principal: \"))\n",
    "        r = float(input(\"Enter rate of interest: \"))\n",
    "        t = float(input(\"Enter time in years: \"))\n",
    "        si = (p * r * t) / 100\n",
    "        print(f\"Simple Interest is: {round(si, 2)}\")\n",
    "    except Exception as e:\n",
    "        print(f\"Error: {e}\")\n",
    "\n",
    "simple_interest()\n"
   ]
  },
  {
   "cell_type": "code",
   "execution_count": null,
   "id": "db5e7942",
   "metadata": {},
   "outputs": [],
   "source": [
    "def max_of_three():\n",
    "    try:\n",
    "        a = float(input(\"Enter first number: \"))\n",
    "        b = float(input(\"Enter second number: \"))\n",
    "        c = float(input(\"Enter third number: \"))\n",
    "        print(f\"The maximum of {a}, {b}, and {c} is: {max(a, b, c)}\")\n",
    "    except Exception as e:\n",
    "        print(f\"Error: {e}\")\n",
    "\n",
    "max_of_three()\n"
   ]
  },
  {
   "cell_type": "code",
   "execution_count": null,
   "id": "d2fc49b8",
   "metadata": {},
   "outputs": [],
   "source": [
    "def check_even_odd():\n",
    "    try:\n",
    "        num = int(input(\"Enter a number: \"))\n",
    "        if num % 2 == 0:\n",
    "            print(f\"{num} is even.\")\n",
    "        else:\n",
    "            print(f\"{num} is odd.\")\n",
    "    except Exception as e:\n",
    "        print(f\"Error: {e}\")\n",
    "\n",
    "check_even_odd()\n"
   ]
  },
  {
   "cell_type": "code",
   "execution_count": null,
   "id": "5c2b6d7f",
   "metadata": {},
   "outputs": [],
   "source": [
    "def check_even_odd():\n",
    "    try:\n",
    "        num = int(input(\"Enter a number: \"))\n",
    "        if num % 2 == 0:\n",
    "            print(f\"{num} is even.\")\n",
    "        else:\n",
    "            print(f\"{num} is odd.\")\n",
    "    except Exception as e:\n",
    "        print(f\"Error: {e}\")\n",
    "\n",
    "check_even_odd()\n"
   ]
  },
  {
   "cell_type": "code",
   "execution_count": null,
   "id": "b9bf0fcf",
   "metadata": {},
   "outputs": [],
   "source": [
    "def km_to_miles():\n",
    "    try:\n",
    "        km = float(input(\"Enter distance in kilometers: \"))\n",
    "        miles = km * 0.621371\n",
    "        print(f\"{km} kilometers is equal to {round(miles, 2)} miles.\")\n",
    "    except Exception as e:\n",
    "        print(f\"Error: {e}\")\n",
    "\n",
    "km_to_miles()\n"
   ]
  },
  {
   "cell_type": "code",
   "execution_count": null,
   "id": "aa873a0b",
   "metadata": {},
   "outputs": [],
   "source": [
    "def factorial():\n",
    "    try:\n",
    "        num = int(input(\"Enter a number: \"))\n",
    "        if num < 0:\n",
    "            raise ValueError(\"Factorial is not defined for negative numbers.\")\n",
    "        result = 1\n",
    "        for i in range(2, num+1):\n",
    "            result *= i\n",
    "        print(f\"Factorial of {num} is: {result}\")\n",
    "    except Exception as e:\n",
    "        print(f\"Error: {e}\")\n",
    "\n",
    "factorial()\n"
   ]
  },
  {
   "cell_type": "code",
   "execution_count": 16,
   "id": "0f5db2c7",
   "metadata": {},
   "outputs": [
    {
     "name": "stdout",
     "output_type": "stream",
     "text": [
      "22 is not a leap year.\n"
     ]
    }
   ],
   "source": [
    "def check_leap_year():\n",
    "    try:\n",
    "        year = int(input(\"Enter a year: \"))\n",
    "        is_leap = (year % 4 == 0 and year % 100 != 0) or (year % 400 == 0)\n",
    "        if is_leap:\n",
    "            print(f\"{year} is a leap year.\")\n",
    "        else:\n",
    "            print(f\"{year} is not a leap year.\")\n",
    "    except Exception as e:\n",
    "        print(f\"Error: {e}\")\n",
    "\n",
    "check_leap_year()\n"
   ]
  },
  {
   "cell_type": "code",
   "execution_count": null,
   "id": "5d4b9325",
   "metadata": {},
   "outputs": [],
   "source": []
  }
 ],
 "metadata": {
  "kernelspec": {
   "display_name": "Python 3",
   "language": "python",
   "name": "python3"
  },
  "language_info": {
   "codemirror_mode": {
    "name": "ipython",
    "version": 3
   },
   "file_extension": ".py",
   "mimetype": "text/x-python",
   "name": "python",
   "nbconvert_exporter": "python",
   "pygments_lexer": "ipython3",
   "version": "3.12.1"
  }
 },
 "nbformat": 4,
 "nbformat_minor": 5
}
