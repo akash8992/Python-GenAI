{
 "cells": [
  {
   "cell_type": "markdown",
   "id": "dc91310d",
   "metadata": {},
   "source": [
    "**Function with default arguments**"
   ]
  },
  {
   "cell_type": "markdown",
   "id": "f54b6f66",
   "metadata": {},
   "source": [
    "- default means some of the arguments in the function are fixed while define the functions\n"
   ]
  },
  {
   "cell_type": "markdown",
   "id": "110765c2",
   "metadata": {},
   "source": [
    "- if we want to change those values we can while calling thr functions or while rinning the functions also\n"
   ]
  },
  {
   "cell_type": "code",
   "execution_count": 4,
   "id": "fe4e5c97",
   "metadata": {},
   "outputs": [],
   "source": [
    "def Tax_calcuate(salery, tax_percent):\n",
    "    tax_amount = salery * tax_percent / 100\n",
    "    print(f\"Tax amount: {tax_amount}\")\n",
    "    \n",
    "    Tax_calcuate(10000, 10)"
   ]
  },
  {
   "cell_type": "code",
   "execution_count": 5,
   "id": "eb032716",
   "metadata": {},
   "outputs": [],
   "source": [
    "def Tax_calcuate(salery, tax_percent=10):\n",
    "    tax_amount = salery * tax_percent / 100\n",
    "    print(f\"Tax amount: {tax_amount}\")\n",
    "    \n",
    "    Tax_calcuate(10000)"
   ]
  },
  {
   "cell_type": "code",
   "execution_count": 6,
   "id": "bea2485e",
   "metadata": {},
   "outputs": [],
   "source": [
    "def Tax_calcuate(salery, tax_percent=10):\n",
    "    tax_amount = salery * tax_percent / 100\n",
    "    print(f\"Tax amount: {tax_amount}\")\n",
    "    \n",
    "    Tax_calcuate(10000, 20)"
   ]
  },
  {
   "cell_type": "code",
   "execution_count": 8,
   "id": "6574bc4e",
   "metadata": {},
   "outputs": [],
   "source": [
    "def addition(n1, n2, n3=300):\n",
    "    print('n1', n2)\n",
    "    print('n2', n2)\n",
    "    print('n3', n3)\n",
    "    sum(n1, n2, n3)\n",
    "    print(f'the sum of {n1}, {n2}, and {n3} is {sum}')\n",
    "    \n",
    "    addition(10, 20)"
   ]
  },
  {
   "cell_type": "code",
   "execution_count": 9,
   "id": "d1c68f7d",
   "metadata": {},
   "outputs": [],
   "source": [
    "def addition(n1, n2, n3=300):\n",
    "    print('n1', n2)\n",
    "    print('n2', n2)\n",
    "    print('n3', n3)\n",
    "    sum(n1, n2, n3)\n",
    "    print(f'the sum of {n1}, {n2}, and {n3} is {sum}')\n",
    "    \n",
    "    addition(10, 20)"
   ]
  },
  {
   "cell_type": "markdown",
   "id": "a7badf8d",
   "metadata": {},
   "source": [
    "*Default argument mentions in last**"
   ]
  },
  {
   "cell_type": "code",
   "execution_count": null,
   "id": "faab5448",
   "metadata": {},
   "outputs": [
    {
     "ename": "SyntaxError",
     "evalue": "parameter without a default follows parameter with a default (735228489.py, line 1)",
     "output_type": "error",
     "traceback": [
      "  \u001b[36mCell\u001b[39m\u001b[36m \u001b[39m\u001b[32mIn[10]\u001b[39m\u001b[32m, line 1\u001b[39m\n\u001b[31m    \u001b[39m\u001b[31mdef addition(n1, n2=400, n3):\u001b[39m\n                             ^\n\u001b[31mSyntaxError\u001b[39m\u001b[31m:\u001b[39m parameter without a default follows parameter with a default\n"
     ]
    }
   ],
   "source": [
    "def addition(n1, n2=400, n3):\n",
    "    print('n1', n2)\n",
    "    print('n2', n2)\n",
    "    print('n3', n3)\n",
    "    sum(n1, n2, n3)\n",
    "    print(f'the sum of {n1}, {n2}, and {n3} is {sum}')\n",
    "    \n",
    "    addition(10, 200)"
   ]
  },
  {
   "cell_type": "code",
   "execution_count": 12,
   "id": "56863f1d",
   "metadata": {},
   "outputs": [],
   "source": [
    "def addition(n1, n2, n3=400,):\n",
    "    print('n1', n2)\n",
    "    print('n2', n2)\n",
    "    print('n3', n3)\n",
    "    sum(n1, n2, n3)\n",
    "    print(f'the sum of {n1}, {n2}, and {n3} is {sum}')\n",
    "    \n",
    "    addition(10, 200)"
   ]
  },
  {
   "cell_type": "markdown",
   "id": "9fe6e003",
   "metadata": {},
   "source": [
    "**Global Vs Local Variables**"
   ]
  },
  {
   "cell_type": "markdown",
   "id": "6813ef9e",
   "metadata": {},
   "source": [
    "global variable means the variable outside the functions\n",
    "\n",
    " - it can be use inside the function\n",
    "\n",
    " - it can be use outside the functions\n",
    "\n",
    "\n",
    "local variables menas the variables inside the function\n",
    " - it can be use only inside the function\n",
    " - it can not be use outside the function\n",
    " "
   ]
  },
  {
   "cell_type": "code",
   "execution_count": 9,
   "id": "a5eecb81",
   "metadata": {},
   "outputs": [],
   "source": [
    "#Global Variable outside the function\n",
    "n1 = 100\n",
    "n2 = 200\n",
    "n3 = 300\n",
    "\n",
    "\n",
    "def addition():\n",
    "    sum(n1 +n2+n3)\n",
    "    print(f'the sum of {n1}, {n2}, and {n3} is {sum}')\n",
    "    \n",
    "    addition()"
   ]
  },
  {
   "cell_type": "code",
   "execution_count": 5,
   "id": "f63c56b5",
   "metadata": {},
   "outputs": [],
   "source": [
    "#outside the function\n",
    "n1 = 100\n",
    "n2 = 200\n",
    "n3 = 300\n",
    "\n",
    "\n",
    "def addition1():\n",
    "    sum = n1 +n2+n3\n",
    "    print(f'the sum of {n1}, {n2}, and {n3} is {sum}')\n",
    "    \n",
    "    addition()"
   ]
  },
  {
   "cell_type": "code",
   "execution_count": 8,
   "id": "e27d9eda",
   "metadata": {},
   "outputs": [],
   "source": [
    "#local variable format inside the function\n",
    "def addition():\n",
    "    n1 = 100\n",
    "    n2 = 200\n",
    "    n3 = 300\n",
    "    sum = n1 +n2+n3\n",
    "    print(f'the sum of {n1}, {n2}, and {n3} is {sum}')\n",
    "    \n",
    "    addition()\n",
    "#local variable format inside the function\n",
    "def addition1():\n",
    "    n1 = 100\n",
    "    n2 = 200\n",
    "    n3 = 300\n",
    "    sum = n1 +n2+n3\n",
    "    print(f'the sum of {n1}, {n2}, and {n3} is {sum}')\n",
    "    \n",
    "    addition()\n",
    "#local variable format inside the function\n",
    "def addition2():\n",
    "    n1 = 100\n",
    "    n2 = 200\n",
    "    n3 = 300\n",
    "    sum = n1 +n2+n3\n",
    "    print(f'the sum of {n1}, {n2}, and {n3} is {sum}')\n",
    "    \n",
    "    addition()\n",
    "#local variable format inside the function\n",
    "def addition3():\n",
    "    n1 = 100\n",
    "    n2 = 200\n",
    "    n3 = 300\n",
    "    sum = n1 +n2+n3\n",
    "    print(f'the sum of {n1}, {n2}, and {n3} is {sum}')\n",
    "    \n",
    "    addition()\n",
    "#local variable format inside the function"
   ]
  },
  {
   "cell_type": "code",
   "execution_count": 11,
   "id": "cab86acd",
   "metadata": {},
   "outputs": [],
   "source": [
    "#outside the function\n",
    "n1 = 100\n",
    "\n",
    "\n",
    "\n",
    "def addition1():\n",
    "    sum = n1 +n2+n3\n",
    "    print(f'the sum of {n1}, {n2}, and {n3} is {sum}')\n",
    "    \n",
    "    addition(20, 30, 40)\n",
    "    \n",
    "    \n",
    "    # step 1: Define the function with default parameters\n",
    "    # step 2 : define the function with default parameters\n",
    "    # 3 : call the function with different arguments\n",
    "    # 4 : run the function to see the output\n",
    "    \n",
    "    "
   ]
  },
  {
   "cell_type": "code",
   "execution_count": null,
   "id": "327887f3",
   "metadata": {},
   "outputs": [],
   "source": []
  }
 ],
 "metadata": {
  "kernelspec": {
   "display_name": "Python 3",
   "language": "python",
   "name": "python3"
  },
  "language_info": {
   "codemirror_mode": {
    "name": "ipython",
    "version": 3
   },
   "file_extension": ".py",
   "mimetype": "text/x-python",
   "name": "python",
   "nbconvert_exporter": "python",
   "pygments_lexer": "ipython3",
   "version": "3.12.1"
  }
 },
 "nbformat": 4,
 "nbformat_minor": 5
}
