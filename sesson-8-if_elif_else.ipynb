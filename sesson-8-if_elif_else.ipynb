{
 "cells": [
  {
   "cell_type": "markdown",
   "id": "e0cc16af",
   "metadata": {},
   "source": [
    "**Conditions_if_elif_else**"
   ]
  },
  {
   "cell_type": "markdown",
   "id": "14c19288",
   "metadata": {},
   "source": []
  }
 ],
 "metadata": {
  "language_info": {
   "name": "python"
  }
 },
 "nbformat": 4,
 "nbformat_minor": 5
}
