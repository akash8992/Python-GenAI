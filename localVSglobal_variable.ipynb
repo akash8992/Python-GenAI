{
 "cells": [
  {
   "cell_type": "markdown",
   "id": "a644bf61",
   "metadata": {},
   "source": [
    "**local VS Global Variable**"
   ]
  },
  {
   "cell_type": "code",
   "execution_count": 4,
   "id": "2f7897c9",
   "metadata": {},
   "outputs": [],
   "source": [
    "n1=100\n",
    "n2=200\n",
    "n3=300\n",
    "summ=0\n",
    "def add1():\n",
    "    global summ\n",
    "    summ = n1 + n2 + n3\n",
    "    print(\"The sum of n1, n2, and n3 is:\", summ)\n",
    "    summ= summ*100\n",
    "    \n",
    "    add1()"
   ]
  },
  {
   "cell_type": "markdown",
   "id": "9a001dc1",
   "metadata": {},
   "source": [
    "**area = length * width**"
   ]
  },
  {
   "cell_type": "markdown",
   "id": "cece18d4",
   "metadata": {},
   "source": [
    "length = float(input(\"Enter the length of the rectangle: \"))\n",
    "width = float(input(\"Enter the width of the rectangle: \"))\n",
    "area = length * width\n",
    "print(\"Area of the rectangle is:\", area)\n"
   ]
  },
  {
   "cell_type": "markdown",
   "id": "77f915ff",
   "metadata": {},
   "source": [
    "**distance = speed * time**"
   ]
  },
  {
   "cell_type": "code",
   "execution_count": 5,
   "id": "caac8268",
   "metadata": {},
   "outputs": [
    {
     "name": "stdout",
     "output_type": "stream",
     "text": [
      "Distance traveled is: 1452.0 km\n"
     ]
    }
   ],
   "source": [
    "speed = float(input(\"Enter speed in km/h: \"))\n",
    "time = float(input(\"Enter time in hours: \"))\n",
    "distance = speed * time\n",
    "print(\"Distance traveled is:\", distance, \"km\")\n"
   ]
  },
  {
   "cell_type": "markdown",
   "id": "aea980d5",
   "metadata": {},
   "source": []
  },
  {
   "cell_type": "markdown",
   "id": "ef49b0dc",
   "metadata": {},
   "source": []
  }
 ],
 "metadata": {
  "kernelspec": {
   "display_name": "Python 3",
   "language": "python",
   "name": "python3"
  },
  "language_info": {
   "codemirror_mode": {
    "name": "ipython",
    "version": 3
   },
   "file_extension": ".py",
   "mimetype": "text/x-python",
   "name": "python",
   "nbconvert_exporter": "python",
   "pygments_lexer": "ipython3",
   "version": "3.12.1"
  }
 },
 "nbformat": 4,
 "nbformat_minor": 5
}
