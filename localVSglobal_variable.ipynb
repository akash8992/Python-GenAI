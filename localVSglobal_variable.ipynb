{
 "cells": [
  {
   "cell_type": "markdown",
   "id": "a644bf61",
   "metadata": {},
   "source": [
    "**local VS Global Variable**"
   ]
  },
  {
   "cell_type": "code",
   "execution_count": 4,
   "id": "2f7897c9",
   "metadata": {},
   "outputs": [],
   "source": [
    "n1=100\n",
    "n2=200\n",
    "n3=300\n",
    "summ=0\n",
    "def add1():\n",
    "    global summ\n",
    "    summ = n1 + n2 + n3\n",
    "    print(\"The sum of n1, n2, and n3 is:\", summ)\n",
    "    summ= summ*100\n",
    "    \n",
    "    add1()"
   ]
  },
  {
   "cell_type": "markdown",
   "id": "9a001dc1",
   "metadata": {},
   "source": [
    "**area = length * width**"
   ]
  },
  {
   "cell_type": "markdown",
   "id": "cece18d4",
   "metadata": {},
   "source": [
    "length = float(input(\"Enter the length of the rectangle: \"))\n",
    "width = float(input(\"Enter the width of the rectangle: \"))\n",
    "area = length * width\n",
    "print(\"Area of the rectangle is:\", area)\n"
   ]
  },
  {
   "cell_type": "markdown",
   "id": "77f915ff",
   "metadata": {},
   "source": [
    "**distance = speed * time**"
   ]
  },
  {
   "cell_type": "code",
   "execution_count": 5,
   "id": "caac8268",
   "metadata": {},
   "outputs": [
    {
     "name": "stdout",
     "output_type": "stream",
     "text": [
      "Distance traveled is: 1452.0 km\n"
     ]
    }
   ],
   "source": [
    "speed = float(input(\"Enter speed in km/h: \"))\n",
    "time = float(input(\"Enter time in hours: \"))\n",
    "distance = speed * time\n",
    "print(\"Distance traveled is:\", distance, \"km\")\n"
   ]
  },
  {
   "cell_type": "code",
   "execution_count": null,
   "id": "d57e49c8",
   "metadata": {},
   "outputs": [],
   "source": [
    "speed = float(input(\"Enter speed in km/h: \"))\n",
    "time = float(input(\"Enter time in hours: \"))\n",
    "distance = speed * time\n",
    "print(\"Distance traveled is:\", distance, \"km\")"
   ]
  },
  {
   "cell_type": "code",
   "execution_count": null,
   "id": "1ffba31c",
   "metadata": {},
   "outputs": [],
   "source": [
    "fahrenheit = float(input(\"Enter temperature in Fahrenheit: \"))\n",
    "celsius = (fahrenheit - 32) * 5 / 9\n",
    "print(\"Temperature in Celsius is:\", celsius)\n"
   ]
  },
  {
   "cell_type": "code",
   "execution_count": null,
   "id": "8bdfb773",
   "metadata": {},
   "outputs": [],
   "source": [
    "hours = float(input(\"Enter number of hours worked: \"))\n",
    "wage = float(input(\"Enter hourly wage: \"))\n",
    "total_pay = hours * wage\n",
    "print(\"Total pay is:\", total_pay)\n"
   ]
  },
  {
   "cell_type": "code",
   "execution_count": null,
   "id": "e8202793",
   "metadata": {},
   "outputs": [],
   "source": [
    "P = float(input(\"Enter the principal amount: \"))\n",
    "R = float(input(\"Enter the annual interest rate (%): \"))\n",
    "T = float(input(\"Enter the time in years: \"))\n",
    "SI = (P * R * T) / 100\n",
    "print(\"Simple Interest is:\", SI)"
   ]
  },
  {
   "cell_type": "code",
   "execution_count": null,
   "id": "c7d547cd",
   "metadata": {},
   "outputs": [],
   "source": [
    "num1 = float(input(\"Enter first number: \"))\n",
    "num2 = float(input(\"Enter second number: \"))\n",
    "average = (num1 + num2) / 2\n",
    "print(\"Average is:\", average)\n"
   ]
  },
  {
   "cell_type": "code",
   "execution_count": null,
   "id": "a66b88f3",
   "metadata": {},
   "outputs": [],
   "source": [
    "sides = int(input(\"Enter number of sides of the polygon: \"))\n",
    "angle = (sides - 2) * 180\n",
    "print(\"Sum of internal angles is:\", angle, \"degrees\")\n"
   ]
  },
  {
   "cell_type": "code",
   "execution_count": null,
   "id": "53316700",
   "metadata": {},
   "outputs": [],
   "source": [
    "seconds = int(input(\"Enter total seconds: \"))\n",
    "minutes = seconds // 60\n",
    "remaining = seconds % 60\n",
    "print(f\"{minutes} minute(s) and {remaining} second(s)\")\n"
   ]
  },
  {
   "cell_type": "code",
   "execution_count": null,
   "id": "ee079f85",
   "metadata": {},
   "outputs": [],
   "source": [
    "radius = float(input(\"Enter radius: \"))\n",
    "pi = 3.14\n",
    "circumference = 2 * pi * radius\n",
    "print(\"Circumference is:\", circumference)\n"
   ]
  },
  {
   "cell_type": "code",
   "execution_count": null,
   "id": "b416e161",
   "metadata": {},
   "outputs": [],
   "source": [
    "years = int(input(\"Enter your age in years: \"))\n",
    "days = years * 365\n",
    "print(\"Your age in days is approximately:\", days)\n"
   ]
  }
 ],
 "metadata": {
  "kernelspec": {
   "display_name": "Python 3",
   "language": "python",
   "name": "python3"
  },
  "language_info": {
   "codemirror_mode": {
    "name": "ipython",
    "version": 3
   },
   "file_extension": ".py",
   "mimetype": "text/x-python",
   "name": "python",
   "nbconvert_exporter": "python",
   "pygments_lexer": "ipython3",
   "version": "3.12.1"
  }
 },
 "nbformat": 4,
 "nbformat_minor": 5
}
