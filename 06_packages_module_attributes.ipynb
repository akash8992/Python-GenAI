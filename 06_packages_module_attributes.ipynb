{
 "cells": [
  {
   "cell_type": "markdown",
   "id": "466ad1b6",
   "metadata": {},
   "source": [
    "**Attributes**"
   ]
  },
  {
   "cell_type": "markdown",
   "id": "4e3fd77b",
   "metadata": {},
   "source": [
    "**Attribute** like pi=3.14\n",
    "\n"
   ]
  },
  {
   "cell_type": "code",
   "execution_count": null,
   "id": "53da25e7",
   "metadata": {},
   "outputs": [],
   "source": [
    "# Example of attributes as a dictionary\n",
    "attributes = {\n",
    "    \"Name\": \"John Doe\",\n",
    "    \"Age\": 30,\n",
    "    \"Gender\": \"Male\",\n",
    "    \"Occupation\": \"Engineer\"\n",
    "}\n",
    "\n",
    "print(attributes)"
   ]
  },
  {
   "cell_type": "code",
   "execution_count": 1,
   "id": "7c0b4cd0",
   "metadata": {},
   "outputs": [
    {
     "name": "stdout",
     "output_type": "stream",
     "text": [
      "15\n",
      "15\n",
      "15\n",
      "15\n",
      "15\n",
      "15\n",
      "15\n",
      "16.0\n"
     ]
    }
   ],
   "source": [
    "# Example of attributes as a list\n",
    "def add(a,b):\n",
    "    print(a + b)\n",
    "add(5, 10)\n",
    "# Example of attributes as a tuple\n",
    "def add(a,b):\n",
    "    print(a + b)\n",
    "add(5, 10)\n",
    "# Example of attributes as a set\n",
    "def add(a,b):\n",
    "    print(a + b)\n",
    "add(5, 10)\n",
    "# Example of attributes as a frozenset\n",
    "def add(a,b):\n",
    "    print(a + b)\n",
    "add(5, 10)\n",
    "# Example of attributes as a bytearray\n",
    "def add(a,b):\n",
    "    print(a + b)\n",
    "add(5, 10)\n",
    "# Example of attributes as a memoryview\n",
    "def add(a,b):\n",
    "    print(a + b)\n",
    "add(5, 10)\n",
    "# Example of attributes as a complex number\n",
    "def add(a,b):\n",
    "    print(a + b)\n",
    "add(5, 10)\n",
    "# Example of attributes as a decimal\n",
    "from decimal import Decimal\n",
    "def add(a,b):\n",
    "    print(a + b)\n",
    "add(Decimal('5.5'), Decimal('10.5'))"
   ]
  },
  {
   "cell_type": "markdown",
   "id": "fe338fde",
   "metadata": {},
   "source": [
    "**Modules**"
   ]
  },
  {
   "cell_type": "code",
   "execution_count": null,
   "id": "28b90790",
   "metadata": {},
   "outputs": [],
   "source": [
    "import math\n",
    "\n",
    "# A module in Python is a file containing Python definitions and statements.\n",
    "# For example, we can create a module named 'math_operations.py' with the following content:\n",
    "# def add(a, b):\n",
    "#     return a + b\n",
    "# def subtract(a, b):\n",
    "#     return a - b\n",
    "\n",
    "# We can then import and use this module in another Python file or script:\n",
    "\n",
    "# Using the math module to perform mathematical operations\n",
    "print(\"The value of pi is:\", math.pi)\n",
    "print(\"The square root of 16 is:\", math.sqrt(16))"
   ]
  },
  {
   "cell_type": "markdown",
   "id": "ad8b493d",
   "metadata": {},
   "source": [
    "*Package*"
   ]
  },
  {
   "cell_type": "markdown",
   "id": "a024799c",
   "metadata": {},
   "source": []
  }
 ],
 "metadata": {
  "kernelspec": {
   "display_name": ".venv",
   "language": "python",
   "name": "python3"
  },
  "language_info": {
   "codemirror_mode": {
    "name": "ipython",
    "version": 3
   },
   "file_extension": ".py",
   "mimetype": "text/x-python",
   "name": "python",
   "nbconvert_exporter": "python",
   "pygments_lexer": "ipython3",
   "version": "3.12.1"
  }
 },
 "nbformat": 4,
 "nbformat_minor": 5
}
