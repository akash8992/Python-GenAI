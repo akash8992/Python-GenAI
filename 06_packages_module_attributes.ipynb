{
 "cells": [
  {
   "cell_type": "markdown",
   "id": "466ad1b6",
   "metadata": {},
   "source": [
    "**Attributes**"
   ]
  },
  {
   "cell_type": "markdown",
   "id": "4e3fd77b",
   "metadata": {},
   "source": [
    "**Attribute** like pi=3.14\n",
    "\n"
   ]
  },
  {
   "cell_type": "code",
   "execution_count": null,
   "id": "53da25e7",
   "metadata": {},
   "outputs": [],
   "source": [
    "# Example of attributes as a dictionary\n",
    "attributes = {\n",
    "    \"Name\": \"John Doe\",\n",
    "    \"Age\": 30,\n",
    "    \"Gender\": \"Male\",\n",
    "    \"Occupation\": \"Engineer\"\n",
    "}\n",
    "\n",
    "print(attributes)"
   ]
  },
  {
   "cell_type": "code",
   "execution_count": 1,
   "id": "7c0b4cd0",
   "metadata": {},
   "outputs": [
    {
     "name": "stdout",
     "output_type": "stream",
     "text": [
      "15\n",
      "15\n",
      "15\n",
      "15\n",
      "15\n",
      "15\n",
      "15\n",
      "16.0\n"
     ]
    }
   ],
   "source": [
    "# Example of attributes as a list\n",
    "def add(a,b):\n",
    "    print(a + b)\n",
    "add(5, 10)\n",
    "# Example of attributes as a tuple\n",
    "def add(a,b):\n",
    "    print(a + b)\n",
    "add(5, 10)\n",
    "# Example of attributes as a set\n",
    "def add(a,b):\n",
    "    print(a + b)\n",
    "add(5, 10)\n",
    "# Example of attributes as a frozenset\n",
    "def add(a,b):\n",
    "    print(a + b)\n",
    "add(5, 10)\n",
    "# Example of attributes as a bytearray\n",
    "def add(a,b):\n",
    "    print(a + b)\n",
    "add(5, 10)\n",
    "# Example of attributes as a memoryview\n",
    "def add(a,b):\n",
    "    print(a + b)\n",
    "add(5, 10)\n",
    "# Example of attributes as a complex number\n",
    "def add(a,b):\n",
    "    print(a + b)\n",
    "add(5, 10)\n",
    "# Example of attributes as a decimal\n",
    "from decimal import Decimal\n",
    "def add(a,b):\n",
    "    print(a + b)\n",
    "add(Decimal('5.5'), Decimal('10.5'))"
   ]
  },
  {
   "cell_type": "markdown",
   "id": "fe338fde",
   "metadata": {},
   "source": [
    "**Modules**"
   ]
  },
  {
   "cell_type": "code",
   "execution_count": null,
   "id": "28b90790",
   "metadata": {},
   "outputs": [],
   "source": [
    "import math\n",
    "\n",
    "# A module in Python is a file containing Python definitions and statements.\n",
    "# For example, we can create a module named 'math_operations.py' with the following content:\n",
    "# def add(a, b):\n",
    "#     return a + b\n",
    "# def subtract(a, b):\n",
    "#     return a - b\n",
    "\n",
    "# We can then import and use this module in another Python file or script:\n",
    "\n",
    "# Using the math module to perform mathematical operations\n",
    "print(\"The value of pi is:\", math.pi)\n",
    "print(\"The square root of 16 is:\", math.sqrt(16))"
   ]
  },
  {
   "cell_type": "markdown",
   "id": "ad8b493d",
   "metadata": {},
   "source": [
    "*Package*"
   ]
  },
  {
   "cell_type": "markdown",
   "id": "a024799c",
   "metadata": {},
   "source": [
    "**functions**\n"
   ]
  },
  {
   "cell_type": "code",
   "execution_count": 3,
   "id": "7b838b11",
   "metadata": {},
   "outputs": [],
   "source": [
    "import math"
   ]
  },
  {
   "cell_type": "code",
   "execution_count": 4,
   "id": "dd1216a2",
   "metadata": {},
   "outputs": [],
   "source": [
    "import random"
   ]
  },
  {
   "cell_type": "code",
   "execution_count": 11,
   "id": "fb652f63",
   "metadata": {},
   "outputs": [],
   "source": [
    "import time\n",
    "import datetime\n",
    "import os\n",
    "import sys\n",
    "import re\n",
    "import json\n",
    "import xml.etree.ElementTree as ET\n",
    "import urllib.parse\n",
    "import urllib.request\n",
    "import sqlite3\n",
    "import csv\n"
   ]
  },
  {
   "cell_type": "code",
   "execution_count": null,
   "id": "ba3c4d9e",
   "metadata": {},
   "outputs": [],
   "source": [
    "import random\n"
   ]
  },
  {
   "cell_type": "code",
   "execution_count": 13,
   "id": "d604856e",
   "metadata": {},
   "outputs": [
    {
     "ename": "ModuleNotFoundError",
     "evalue": "No module named 'cv2'",
     "output_type": "error",
     "traceback": [
      "\u001b[31m---------------------------------------------------------------------------\u001b[39m",
      "\u001b[31mModuleNotFoundError\u001b[39m                       Traceback (most recent call last)",
      "\u001b[36mCell\u001b[39m\u001b[36m \u001b[39m\u001b[32mIn[13]\u001b[39m\u001b[32m, line 1\u001b[39m\n\u001b[32m----> \u001b[39m\u001b[32m1\u001b[39m \u001b[38;5;28;01mimport\u001b[39;00m\u001b[38;5;250m \u001b[39m\u001b[34;01mcv2\u001b[39;00m\n\u001b[32m      2\u001b[39m \u001b[38;5;28;01mimport\u001b[39;00m\u001b[38;5;250m \u001b[39m\u001b[34;01mnumpy\u001b[39;00m\u001b[38;5;250m \u001b[39m\u001b[38;5;28;01mas\u001b[39;00m\u001b[38;5;250m \u001b[39m\u001b[34;01mnp\u001b[39;00m\n\u001b[32m      3\u001b[39m \u001b[38;5;28;01mimport\u001b[39;00m\u001b[38;5;250m \u001b[39m\u001b[34;01mmatplotlib\u001b[39;00m\u001b[34;01m.\u001b[39;00m\u001b[34;01mpyplot\u001b[39;00m\u001b[38;5;250m \u001b[39m\u001b[38;5;28;01mas\u001b[39;00m\u001b[38;5;250m \u001b[39m\u001b[34;01mplt\u001b[39;00m\n",
      "\u001b[31mModuleNotFoundError\u001b[39m: No module named 'cv2'"
     ]
    }
   ],
   "source": [
    "import cv2\n",
    "import numpy as np\n",
    "import matplotlib.pyplot as plt\n",
    "import pandas as pd\n",
    "import seaborn as sns\n",
    "import tensorflow as tf\n",
    "import keras\n",
    "import torch\n",
    "import torchvision\n",
    "import sklearn\n",
    "import nltk"
   ]
  },
  {
   "cell_type": "code",
   "execution_count": 16,
   "id": "4cd3e00e",
   "metadata": {},
   "outputs": [
    {
     "ename": "SyntaxError",
     "evalue": "invalid syntax (2033759521.py, line 1)",
     "output_type": "error",
     "traceback": [
      "  \u001b[36mCell\u001b[39m\u001b[36m \u001b[39m\u001b[32mIn[16]\u001b[39m\u001b[32m, line 1\u001b[39m\n\u001b[31m    \u001b[39m\u001b[31mabove are some of the most commonly used libraries in Python for various tasks such as data manipulation, machine learning, and image processing.\u001b[39m\n          ^\n\u001b[31mSyntaxError\u001b[39m\u001b[31m:\u001b[39m invalid syntax\n"
     ]
    }
   ],
   "source": [
    "above are some of the most commonly used libraries in Python for various tasks such as data manipulation, machine learning, and image processing."
   ]
  },
  {
   "cell_type": "code",
   "execution_count": null,
   "id": "e0fce51d",
   "metadata": {},
   "outputs": [],
   "source": []
  }
 ],
 "metadata": {
  "kernelspec": {
   "display_name": ".venv",
   "language": "python",
   "name": "python3"
  },
  "language_info": {
   "codemirror_mode": {
    "name": "ipython",
    "version": 3
   },
   "file_extension": ".py",
   "mimetype": "text/x-python",
   "name": "python",
   "nbconvert_exporter": "python",
   "pygments_lexer": "ipython3",
   "version": "3.12.1"
  }
 },
 "nbformat": 4,
 "nbformat_minor": 5
}
